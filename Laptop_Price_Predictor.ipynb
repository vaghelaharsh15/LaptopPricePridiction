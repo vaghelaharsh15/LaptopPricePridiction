{
 "cells": [
  {
   "cell_type": "code",
   "execution_count": 4,
   "id": "2dfb502a-6e2c-4706-b8bd-b4d75a6e21fe",
   "metadata": {},
   "outputs": [
    {
     "name": "stdout",
     "output_type": "stream",
     "text": [
      "Mean Squared Error: 716076852.83\n",
      "\n",
      "\n",
      "Enter laptop details to predict price (or type 'exit' to quit):\n"
     ]
    },
    {
     "name": "stdin",
     "output_type": "stream",
     "text": [
      "Action (predict / exit):  predict\n",
      "Brand (Dell, HP, Lenovo, Asus, Acer, Apple):  Lenovo\n",
      "RAM in GB (e.g., 8, 16, 32):  32\n",
      "Storage in GB (e.g., 256, 512, 1024):  512\n",
      "Processor (i3, i5, i7, i9, M1, M2):  M1\n"
     ]
    },
    {
     "name": "stdout",
     "output_type": "stream",
     "text": [
      "\n",
      "❌ Error: Only Apple laptops can have M1 or M2 processors.\n",
      "\n",
      "Enter laptop details to predict price (or type 'exit' to quit):\n"
     ]
    },
    {
     "name": "stdin",
     "output_type": "stream",
     "text": [
      "Action (predict / exit):  predict\n",
      "Brand (Dell, HP, Lenovo, Asus, Acer, Apple):  Lenovo\n",
      "RAM in GB (e.g., 8, 16, 32):  32\n",
      "Storage in GB (e.g., 256, 512, 1024):  512\n",
      "Processor (i3, i5, i7, i9, M1, M2):  i9\n"
     ]
    },
    {
     "name": "stdout",
     "output_type": "stream",
     "text": [
      "💻 Predicted Price: ₹126657.78\n",
      "\n",
      "Enter laptop details to predict price (or type 'exit' to quit):\n"
     ]
    },
    {
     "name": "stdin",
     "output_type": "stream",
     "text": [
      "Action (predict / exit):  exit\n"
     ]
    },
    {
     "name": "stdout",
     "output_type": "stream",
     "text": [
      "✅ Program ended.\n"
     ]
    }
   ],
   "source": [
    "import pandas as pd\n",
    "from sklearn.model_selection import train_test_split\n",
    "from sklearn.linear_model import LinearRegression\n",
    "from sklearn.preprocessing import LabelEncoder\n",
    "from sklearn.metrics import mean_squared_error\n",
    "\n",
    "# Step 1: load dataset\n",
    "df = pd.read_csv(\"laptop_prices_500_inr.csv\")\n",
    "\n",
    "# Step 2: encode columns\n",
    "label_encoders = {}\n",
    "for column in [\"Brand\", \"Processor\"]:\n",
    "    le = LabelEncoder()\n",
    "    df[column] = le.fit_transform(df[column])\n",
    "    label_encoders[column] = le\n",
    "\n",
    "# Step 3: seperating target\n",
    "X = df[[\"Brand\", \"RAM_GB\", \"Storage_GB\", \"Processor\"]]\n",
    "y = df[\"Price\"]\n",
    "\n",
    "# Step 4: Train-Test Split\n",
    "X_train, X_test, y_train, y_test = train_test_split(X, y, test_size=0.2, random_state=42)\n",
    "\n",
    "# Step 5: training Model\n",
    "model = LinearRegression()\n",
    "model.fit(X_train, y_train)\n",
    "\n",
    "# Step 6: Evaluate Model\n",
    "y_pred = model.predict(X_test)\n",
    "mse = mean_squared_error(y_test, y_pred)\n",
    "print(f\"Mean Squared Error: {mse:.2f}\\n\")\n",
    "\n",
    "# Step 7: Continuous Prediction Loop\n",
    "while True:\n",
    "    print(\"\\nEnter laptop details to predict price (or type 'exit' to quit):\")\n",
    "    action = input(\"Action (predict / exit): \").strip().lower()\n",
    "\n",
    "    match action:\n",
    "        case \"exit\":\n",
    "            print(\"✅ Program ended.\")\n",
    "            break\n",
    "\n",
    "        case \"predict\":\n",
    "            try:\n",
    "                user_brand = input(\"Brand (Dell, HP, Lenovo, Asus, Acer, Apple): \").strip()\n",
    "                user_ram = int(input(\"RAM in GB (e.g., 8, 16, 32): \"))\n",
    "                user_storage = int(input(\"Storage in GB (e.g., 256, 512, 1024): \"))\n",
    "                user_processor = input(\"Processor (i3, i5, i7, i9, M1, M2): \").strip()\n",
    "\n",
    "                # Validation rules\n",
    "                if user_brand.lower() == \"apple\":\n",
    "                    if user_processor not in [\"M1\", \"M2\"]:\n",
    "                        print(\"\\n❌ Error: Apple laptops can only have M1 or M2 processors.\")\n",
    "                        continue\n",
    "                else:\n",
    "                    if user_processor in [\"M1\", \"M2\"]:\n",
    "                        print(\"\\n❌ Error: Only Apple laptops can have M1 or M2 processors.\")\n",
    "                        continue\n",
    "\n",
    "                # Check if brand exists in dataset\n",
    "                if user_brand not in label_encoders[\"Brand\"].classes_:\n",
    "                    print(\"\\n❌ Error: Brand not found in dataset.\")\n",
    "                    continue\n",
    "\n",
    "                # Check if processor exists in dataset\n",
    "                if user_processor not in label_encoders[\"Processor\"].classes_:\n",
    "                    print(\"\\n❌ Error: Processor not found in dataset.\")\n",
    "                    continue\n",
    "\n",
    "                # Convert to model format\n",
    "                new_laptop = pd.DataFrame({\n",
    "                    \"Brand\": [label_encoders[\"Brand\"].transform([user_brand])[0]],\n",
    "                    \"RAM_GB\": [user_ram],\n",
    "                    \"Storage_GB\": [user_storage],\n",
    "                    \"Processor\": [label_encoders[\"Processor\"].transform([user_processor])[0]]\n",
    "                })\n",
    "\n",
    "                # Predict price\n",
    "                predicted_price = model.predict(new_laptop)[0]\n",
    "                print(f\"💻 Predicted Price: ₹{predicted_price:.2f}\")\n",
    "\n",
    "            except ValueError:\n",
    "                print(\"\\n❌ Error: Invalid input. Please try again.\")\n",
    "\n",
    "        case _:\n",
    "            print(\"⚠ Invalid option! Type 'predict' to predict or 'exit' to quit.\")\n"
   ]
  },
  {
   "cell_type": "code",
   "execution_count": null,
   "id": "f2198487-aa3a-48b8-90a8-45b50efb534c",
   "metadata": {},
   "outputs": [],
   "source": []
  }
 ],
 "metadata": {
  "kernelspec": {
   "display_name": "Python 3 (ipykernel)",
   "language": "python",
   "name": "python3"
  },
  "language_info": {
   "codemirror_mode": {
    "name": "ipython",
    "version": 3
   },
   "file_extension": ".py",
   "mimetype": "text/x-python",
   "name": "python",
   "nbconvert_exporter": "python",
   "pygments_lexer": "ipython3",
   "version": "3.12.4"
  }
 },
 "nbformat": 4,
 "nbformat_minor": 5
}
